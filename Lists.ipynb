{
 "cells": [
  {
   "cell_type": "code",
   "execution_count": 26,
   "metadata": {},
   "outputs": [],
   "source": [
    "from typing import List"
   ]
  },
  {
   "cell_type": "markdown",
   "metadata": {},
   "source": [
    "# Lists\n",
    "\n",
    "A list is a list of items, typically of the same \"type\", like the same kind of thing. \n",
    "\n",
    "We can use lists for a lot of things - here's a few examples. \n",
    "\n",
    "## Lists as a list of things to do\n",
    "\n",
    "Let's say you have a list of groceries, and you want to purchase them all from the grocery store. You might do something like: "
   ]
  },
  {
   "cell_type": "code",
   "execution_count": 27,
   "metadata": {},
   "outputs": [
    {
     "name": "stdout",
     "output_type": "stream",
     "text": [
      "Purchased apple from the grocery store!\n",
      "Purchased banana from the grocery store!\n",
      "Purchased flour from the grocery store!\n"
     ]
    }
   ],
   "source": [
    "class GroceryStore:\n",
    "    boughtItems: List[str]\n",
    "\n",
    "    def __init__(self):\n",
    "        self.boughtItems = []\n",
    "    \n",
    "    def buy(self, item):\n",
    "        self.boughtItems.append(item)\n",
    "        print(f\"Purchased {item} from the grocery store!\")\n",
    "\n",
    "\n",
    "groceryStore = GroceryStore() # This is a \"grocery store\" object, that has a method called 'buy'. \n",
    "\n",
    "groceryList = [\"apple\", \"banana\", \"flour\"]\n",
    "\n",
    "for grocery in groceryList: \n",
    "    groceryStore.buy(grocery) # For each of the groceries in our grocery list, buy it. "
   ]
  },
  {
   "cell_type": "markdown",
   "metadata": {},
   "source": [
    "## Lists as a collection\n",
    "\n",
    "We can also use lists to talk about things that we have a bunch of. \n",
    "\n",
    "You, as a person, probably only have one birthday. But you definitely have more than one t-shirt, relative, or song that you like. \n",
    "\n",
    "When we have a bunch of things of the same \"kind\" (or type) that all relate to one thing, we put all of these things in a list. \n",
    "\n",
    "In the earlier example, we had a bunch of groceries we needed to buy - these all went into our \"grocery list\". Note here, that: \n",
    "1. The grocery list itself is one thing. You have one grocery list. \n",
    "2. The grocery list contains many groceries; it is a `list` of groceries. "
   ]
  },
  {
   "cell_type": "markdown",
   "metadata": {},
   "source": [
    "# Working with lists\n",
    "\n",
    "There's a few ways we work with lists - here's the main two. \n",
    "\n",
    "## Indexing\n",
    "\n",
    "When you're looking at a book, especially non-fiction, there's usually an index in the back of it that tells you what page every single thing in that book is on. \n",
    "\n",
    "We can access pieces of a list in the same way. The \"page\" in a list is the position it is in the list. So, we could have a list like: "
   ]
  },
  {
   "cell_type": "code",
   "execution_count": 28,
   "metadata": {},
   "outputs": [],
   "source": [
    "pages = [\"page 0\", \"page 1\", \"page 2\", \"page 3\"]"
   ]
  },
  {
   "cell_type": "markdown",
   "metadata": {},
   "source": [
    "For some reason, we work with lists starting at 0. This is called \"zero-indexing\". (One-indexed lists also exist, but don't come up very often.)\n",
    "\n",
    "In Python, we get something out of a list like this: "
   ]
  },
  {
   "cell_type": "code",
   "execution_count": 29,
   "metadata": {},
   "outputs": [
    {
     "name": "stdout",
     "output_type": "stream",
     "text": [
      "Page zero: page 0\n",
      "Page one: page 1\n",
      "Page three: page 3\n"
     ]
    }
   ],
   "source": [
    "pageZero = pages[0]\n",
    "pageOne = pages[1]\n",
    "# ... \n",
    "pageThree = pages[3]\n",
    "\n",
    "print(f\"Page zero: {pageZero}\")\n",
    "print(f\"Page one: {pageOne}\")\n",
    "print(f\"Page three: {pageThree}\")"
   ]
  },
  {
   "cell_type": "markdown",
   "metadata": {},
   "source": [
    "## Iteration\n",
    "\n",
    "You can also work through lists in a 'for' loop. These look something like this in python:"
   ]
  },
  {
   "cell_type": "code",
   "execution_count": 30,
   "metadata": {},
   "outputs": [
    {
     "name": "stdout",
     "output_type": "stream",
     "text": [
      "Purchased apple from the grocery store!\n",
      "Purchased banana from the grocery store!\n",
      "Purchased flour from the grocery store!\n",
      "You've all purchased: ['apple', 'banana', 'flour', 'apple', 'banana', 'flour']\n"
     ]
    }
   ],
   "source": [
    "groceryList = [\"apple\", \"banana\", \"flour\"]\n",
    "\n",
    "for grocery in groceryList: \n",
    "    groceryStore.buy(grocery) # For each of the groceries in our grocery list, buy it. \n",
    "\n",
    "# Let's see what we all bought...\n",
    "\n",
    "print(f\"You've all purchased: {groceryStore.boughtItems}\")"
   ]
  },
  {
   "cell_type": "markdown",
   "metadata": {},
   "source": [
    "But how did this work? \n",
    "\n",
    "<i>There's Magic Going On Here....</i>\n",
    "\n",
    "So let's talk about it! \n",
    "\n",
    "To better understand what's going on in the statement `for grocery in groceryList`, let's try to build the same function using just indexing. \n",
    "\n",
    "Let's start with just the simple case of the above example. "
   ]
  },
  {
   "cell_type": "code",
   "execution_count": 31,
   "metadata": {},
   "outputs": [
    {
     "name": "stdout",
     "output_type": "stream",
     "text": [
      "Purchased apple from the grocery store!\n",
      "Purchased banana from the grocery store!\n",
      "Purchased flour from the grocery store!\n",
      "You've all purchased: ['apple', 'banana', 'flour', 'apple', 'banana', 'flour', 'apple', 'banana', 'flour']\n"
     ]
    }
   ],
   "source": [
    "groceryList = [\"apple\", \"banana\", \"flour\"]\n",
    "\n",
    "groceryStore.buy(groceryList[0])\n",
    "groceryStore.buy(groceryList[1])\n",
    "groceryStore.buy(groceryList[2])\n",
    "\n",
    "print(f\"You've all purchased: {groceryStore.boughtItems}\")"
   ]
  },
  {
   "cell_type": "markdown",
   "metadata": {},
   "source": [
    "This doesn't seem very efficient, though. What if we want to buy more than that many items? What if we add `corn` to our grocery list?\n",
    "\n",
    "Let's think about our grocery list like a roll of tickets that we're pulling one off. This looks kind of like: "
   ]
  },
  {
   "cell_type": "code",
   "execution_count": 32,
   "metadata": {},
   "outputs": [],
   "source": [
    "# [-------|--------|-------]\n",
    "# [ apple | banana | flour ]\n",
    "# [-------|--------|-------]"
   ]
  },
  {
   "cell_type": "markdown",
   "metadata": {},
   "source": [
    "Now, we want to go through this tape one at a time. Let's keep track of which ticket we're on with the variable `cursor`. Each position of 'cursor' refers to one further down in the list. "
   ]
  },
  {
   "cell_type": "code",
   "execution_count": 33,
   "metadata": {},
   "outputs": [],
   "source": [
    "# Cursor: 0 \n",
    "\n",
    "# [-------|--------|-------]\n",
    "# [ apple | banana | flour ]\n",
    "# [-------|--------|-------]\n",
    "#    ^^^\n",
    "\n",
    "# Cursor: 1\n",
    "\n",
    "# [-------|--------|-------]\n",
    "# [ apple | banana | flour ]\n",
    "# [-------|--------|-------]\n",
    "#            ^^^^\n",
    "\n",
    "# Cursor: 2\n",
    "\n",
    "# [-------|--------|-------]\n",
    "# [ apple | banana | flour ]\n",
    "# [-------|--------|-------]\n",
    "#                     ^^^\n"
   ]
  },
  {
   "cell_type": "markdown",
   "metadata": {},
   "source": [
    "But, when we move our `cursor` too far...."
   ]
  },
  {
   "cell_type": "code",
   "execution_count": 34,
   "metadata": {},
   "outputs": [],
   "source": [
    "# Cursor: 3\n",
    "\n",
    "# [-------|--------|-------]\n",
    "# [ apple | banana | flour ]\n",
    "# [-------|--------|-------]\n",
    "#                              ^^^ "
   ]
  },
  {
   "cell_type": "markdown",
   "metadata": {},
   "source": [
    "This is clearly a problem. \n",
    "\n",
    "We call this an `IndexError`, and when it happens, you'll see a message like: "
   ]
  },
  {
   "cell_type": "code",
   "execution_count": 35,
   "metadata": {},
   "outputs": [
    {
     "ename": "IndexError",
     "evalue": "list index out of range",
     "output_type": "error",
     "traceback": [
      "\u001b[1;31m---------------------------------------------------------------------------\u001b[0m",
      "\u001b[1;31mIndexError\u001b[0m                                Traceback (most recent call last)",
      "\u001b[1;32m<ipython-input-35-8a223e378b0d>\u001b[0m in \u001b[0;36m<module>\u001b[1;34m\u001b[0m\n\u001b[0;32m      1\u001b[0m \u001b[0ma\u001b[0m \u001b[1;33m=\u001b[0m \u001b[1;33m[\u001b[0m\u001b[1;36m0\u001b[0m\u001b[1;33m]\u001b[0m\u001b[1;33m\u001b[0m\u001b[1;33m\u001b[0m\u001b[0m\n\u001b[1;32m----> 2\u001b[1;33m \u001b[0ma\u001b[0m\u001b[1;33m[\u001b[0m\u001b[1;36m1\u001b[0m\u001b[1;33m]\u001b[0m\u001b[1;33m\u001b[0m\u001b[1;33m\u001b[0m\u001b[0m\n\u001b[0m\u001b[0;32m      3\u001b[0m \u001b[1;33m\u001b[0m\u001b[0m\n\u001b[0;32m      4\u001b[0m \u001b[1;31m# calling this will return...\u001b[0m\u001b[1;33m\u001b[0m\u001b[1;33m\u001b[0m\u001b[1;33m\u001b[0m\u001b[0m\n\u001b[0;32m      5\u001b[0m \u001b[1;33m\u001b[0m\u001b[0m\n",
      "\u001b[1;31mIndexError\u001b[0m: list index out of range"
     ]
    }
   ],
   "source": [
    "a = [0]\n",
    "a[1]\n",
    "\n",
    "# calling this will return... \n",
    "\n",
    "# Traceback (most recent call last):\n",
    "#   File \"<stdin>\", line 1, in <module>\n",
    "# IndexError: list index out of range"
   ]
  },
  {
   "cell_type": "markdown",
   "metadata": {},
   "source": [
    "Recall our original problem: We want to make this code work. "
   ]
  },
  {
   "cell_type": "code",
   "execution_count": null,
   "metadata": {},
   "outputs": [],
   "source": [
    "groceryList = [\"apple\", \"banana\", \"flour\"]\n",
    "\n",
    "for grocery in groceryList: \n",
    "    groceryStore.buy(grocery) # For each of the groceries in our grocery list, buy it. "
   ]
  },
  {
   "cell_type": "markdown",
   "metadata": {},
   "source": [
    "So we have two problems: \n",
    "\n",
    "1. How do we move along the tape of groceries? \n",
    "2. How do we know when to stop so we don't cause an error?\n",
    "\n",
    "For the first problem, we'll need some kind of loop. There's a few different methods of iteration in Python:\n",
    "* `for` loops \n",
    "* `while` loops\n",
    "* some others (less important for now)\n",
    "\n",
    "We're trying to replace a `for` loop, so let's use a `while` loop for this example. \n",
    "\n",
    "The fundamental question is: How're we keeping track of where we are, and how do we know when to stop?\n",
    "\n",
    "For where we are, that's easy - we said earlier that we had a `cursor`, and that it'd keep track of where we were on the list. \n",
    "\n",
    "For where to stop, let's provide a number that's the length of the list. \n",
    "\n",
    "In plain english, then: <b>While the cursor is less than the length of the list, do <i>something</i></b>. \n",
    "\n",
    "In this case, <i>something</i> is going to buy buying the item from the grocery store. \n",
    "\n",
    "Finally, let's wrap all of this in a function, so that it looks nice."
   ]
  },
  {
   "cell_type": "code",
   "execution_count": null,
   "metadata": {},
   "outputs": [],
   "source": [
    "def forEachItemBuyFromStore(list, numItems):\n",
    "    \"\"\"Here's our function to buy items from the store. \n",
    "    \n",
    "    Arguments: \n",
    "    list: The list of items that we're buying from the store. \n",
    "    numItems: The number of items in the list. \n",
    "    \n",
    "    Logic: \n",
    "    Keep track of a cursor, which is the current position of where we are in the list. \n",
    "    For each iteration, move the cursor to the next item in the list. \n",
    "    Then, add one to it, to move it along to the next position. \n",
    "    \n",
    "    \"\"\"\n",
    "    cursor = 0\n",
    "    while cursor < numItems: \n",
    "        item = list[cursor]\n",
    "        groceryStore.buy(item)\n",
    "        cursor = cursor + 1 # can also be written as 'cursor += 1'\n"
   ]
  },
  {
   "cell_type": "markdown",
   "metadata": {},
   "source": [
    "Now, let's run this to see what happens. "
   ]
  },
  {
   "cell_type": "code",
   "execution_count": null,
   "metadata": {},
   "outputs": [
    {
     "name": "stdout",
     "output_type": "stream",
     "text": [
      "Purchased apple from the grocery store!\n",
      "Purchased banana from the grocery store!\n",
      "Purchased flour from the grocery store!\n"
     ]
    }
   ],
   "source": [
    "groceryList = [\"apple\", \"banana\", \"flour\"]\n",
    "\n",
    "forEachItemBuyFromStore(groceryList, 3)"
   ]
  },
  {
   "cell_type": "markdown",
   "metadata": {},
   "source": [
    "This looks great! But what if lists were smart? What if they could tell how many items are in there? \n",
    "\n",
    "<i>What if they can???</i>\n",
    "\n",
    "Lists have lots of functions built into them to make your life easier, and Python makes these pretty. \n",
    "\n",
    "One of these is the \"len\" function, which stands for \"length\". You call it like this: "
   ]
  },
  {
   "cell_type": "code",
   "execution_count": null,
   "metadata": {},
   "outputs": [
    {
     "name": "stdout",
     "output_type": "stream",
     "text": [
      "The length of the list is 3\n"
     ]
    }
   ],
   "source": [
    "groceryList = [\"apple\", \"banana\", \"flour\"]\n",
    "\n",
    "print(f\"The length of the list is {len(groceryList)}\")"
   ]
  },
  {
   "cell_type": "markdown",
   "metadata": {},
   "source": [
    "So, now let's turn our old, crungy function into something pretty with this, so that you only have to give the list. "
   ]
  },
  {
   "cell_type": "code",
   "execution_count": 36,
   "metadata": {},
   "outputs": [],
   "source": [
    "def forEachItemBuyFromStoreButPrettier(list):\n",
    "    \"\"\"Here's our function to buy items from the store. \n",
    "    \n",
    "    Arguments: \n",
    "    list: The list of items that we're buying from the store. \n",
    "    numItems: The number of items in the list. \n",
    "    \n",
    "    Logic: \n",
    "    Keep track of a cursor, which is the current position of where we are in the list. \n",
    "    For each iteration, move the cursor to the next item in the list. \n",
    "    Then, add one to it, to move it along to the next position. \n",
    "    \n",
    "    \"\"\"\n",
    "    cursor = 0\n",
    "    numItems = len(list)\n",
    "    while cursor < numItems: \n",
    "        item = list[cursor]\n",
    "        groceryStore.buy(item)\n",
    "        cursor = cursor + 1 # can also be written as 'cursor += 1'"
   ]
  },
  {
   "cell_type": "markdown",
   "metadata": {},
   "source": [
    "And, this still works the same as before: "
   ]
  },
  {
   "cell_type": "code",
   "execution_count": 37,
   "metadata": {},
   "outputs": [
    {
     "name": "stdout",
     "output_type": "stream",
     "text": [
      "Purchased apple from the grocery store!\n",
      "Purchased banana from the grocery store!\n",
      "Purchased flour from the grocery store!\n"
     ]
    }
   ],
   "source": [
    "groceryList = [\"apple\", \"banana\", \"flour\"]\n",
    "\n",
    "forEachItemBuyFromStoreButPrettier(groceryList)"
   ]
  },
  {
   "cell_type": "markdown",
   "metadata": {},
   "source": [
    "Hopefully, all of this makes it a little more clear what's going on when we have this 'for' loop code."
   ]
  },
  {
   "cell_type": "code",
   "execution_count": null,
   "metadata": {},
   "outputs": [],
   "source": [
    "groceryList = [\"apple\", \"banana\", \"flour\"]\n",
    "\n",
    "for grocery in groceryList: \n",
    "    groceryStore.buy(grocery) # For each of the groceries in our grocery list, buy it. "
   ]
  }
 ],
 "metadata": {
  "interpreter": {
   "hash": "16e3f6170213bc8b93f4af10cda404198c09c84502cee13f546aa00fc3fa8f5f"
  },
  "kernelspec": {
   "display_name": "Python 3.8.5 64-bit",
   "language": "python",
   "name": "python3"
  },
  "language_info": {
   "codemirror_mode": {
    "name": "ipython",
    "version": 3
   },
   "file_extension": ".py",
   "mimetype": "text/x-python",
   "name": "python",
   "nbconvert_exporter": "python",
   "pygments_lexer": "ipython3",
   "version": "3.8.5"
  },
  "orig_nbformat": 4
 },
 "nbformat": 4,
 "nbformat_minor": 2
}
